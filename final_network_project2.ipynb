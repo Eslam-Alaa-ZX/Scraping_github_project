{
  "nbformat": 4,
  "nbformat_minor": 0,
  "metadata": {
    "colab": {
      "name": "final_network_project2.ipynb",
      "provenance": [],
      "collapsed_sections": [],
      "authorship_tag": "ABX9TyMkwGwNIBz10y+yAfHXM7o/",
      "include_colab_link": true
    },
    "kernelspec": {
      "name": "python3",
      "display_name": "Python 3"
    },
    "language_info": {
      "name": "python"
    }
  },
  "cells": [
    {
      "cell_type": "markdown",
      "metadata": {
        "id": "view-in-github",
        "colab_type": "text"
      },
      "source": [
        "<a href=\"https://colab.research.google.com/github/Eslam-Alaa-ZX/Scraping_github_project/blob/main/final_network_project2.ipynb\" target=\"_parent\"><img src=\"https://colab.research.google.com/assets/colab-badge.svg\" alt=\"Open In Colab\"/></a>"
      ]
    },
    {
      "cell_type": "code",
      "execution_count": 2,
      "metadata": {
        "colab": {
          "base_uri": "https://localhost:8080/"
        },
        "id": "WEOnfpCKXCkf",
        "outputId": "87077dd1-2026-417a-e0ed-3b196c8770fd"
      },
      "outputs": [
        {
          "output_type": "stream",
          "name": "stdout",
          "text": [
            "Enter GitHub username: android10\n",
            "['Kotlin-Playground', 'synology-monitoring-prometheus', 'Rust-Proactive-Introduction', 'Android-CleanArchitecture-Kotlin', 'Typescript-Playground', 'Typescript-Everywhere', 'linux.github.io', 'archive', 'android10', 'Kotlin-Everywhere', 'ktor-rest-api-docker-bootstrap', 'Rust-Everywhere', 'ktor-dockerizer', 'Android-CleanArchitecture', 'legacy-android10.github.io', 'java-code-styles', 'mandrake', 'learning-web-development', 'android-trinity', 'engineering-leadership', 'vipi', 'doggy', 'Sample-Data', 'github-calendar', 'Android-FeatureFlags', 'arch-linux-utils', 'awesome-sre', 'postmortem-templates', 'tale', 'sketches', 'RaspberryPi-Wireguard', 'build-your-own-x', 'Anni', 'Inside_Android_ListView', 'engineering-management', 'Javascript-Samples', 'Kotlin-Cracking-The-Engineer-Interview', 'interviews', 'Instapixel', 'Docker-Examples', 'Presentations', 'Cognitive-Samples', 'mediumish-theme-jekyll', 'Android-KotlinInTests', 'Multi-Threading-Samples', 'arrow', 'frodo', 'Android-AOPExample', 'Android-ReactiveProgramming', 'frodo2', 'Workshop-Android-Chatbot', 'HelloDockerScalaSbt', 'two-daggers', 'arch-linux-dell', 'java-code-examples', 'Scala_ExercisesAndPractices', 'best-practices', 'gandalf', 'aragorn', 'engineering-blogs', 'Fast-Food-Reality', 'MyResumeAndroidApp', 'Android-AnnotationsSample', 'java-design-patterns', 'DynamicProxy_Java_Sample', 'Inside_Android_Testing', 'VimStuff', 'interviewproblems', 'AndroidApplicationTestingSample', 'nfc_android_sample']\n",
            "['https://github.com//android10/Kotlin-Playground', 'https://github.com//android10/synology-monitoring-prometheus', 'https://github.com//android10/Rust-Proactive-Introduction', 'https://github.com//android10/Android-CleanArchitecture-Kotlin', 'https://github.com//android10/Typescript-Playground', 'https://github.com//android10/Typescript-Everywhere', 'https://github.com//android10/linux.github.io', 'https://github.com//android10/archive', 'https://github.com//android10/android10', 'https://github.com//android10/Kotlin-Everywhere', 'https://github.com//android10/ktor-rest-api-docker-bootstrap', 'https://github.com//android10/Rust-Everywhere', 'https://github.com//android10/ktor-dockerizer', 'https://github.com//android10/Android-CleanArchitecture', 'https://github.com//android10/legacy-android10.github.io', 'https://github.com//android10/java-code-styles', 'https://github.com//android10/mandrake', 'https://github.com//android10/learning-web-development', 'https://github.com//android10/android-trinity', 'https://github.com//android10/engineering-leadership', 'https://github.com//android10/vipi', 'https://github.com//android10/doggy', 'https://github.com//android10/Sample-Data', 'https://github.com//android10/github-calendar', 'https://github.com//android10/Android-FeatureFlags', 'https://github.com//android10/arch-linux-utils', 'https://github.com//android10/awesome-sre', 'https://github.com//android10/postmortem-templates', 'https://github.com//android10/tale', 'https://github.com//android10/sketches', 'https://github.com//android10/RaspberryPi-Wireguard', 'https://github.com//android10/build-your-own-x', 'https://github.com//android10/Anni', 'https://github.com//android10/Inside_Android_ListView', 'https://github.com//android10/engineering-management', 'https://github.com//android10/Javascript-Samples', 'https://github.com//android10/Kotlin-Cracking-The-Engineer-Interview', 'https://github.com//android10/interviews', 'https://github.com//android10/Instapixel', 'https://github.com//android10/Docker-Examples', 'https://github.com//android10/Presentations', 'https://github.com//android10/Cognitive-Samples', 'https://github.com//android10/mediumish-theme-jekyll', 'https://github.com//android10/Android-KotlinInTests', 'https://github.com//android10/Multi-Threading-Samples', 'https://github.com//android10/arrow', 'https://github.com//android10/frodo', 'https://github.com//android10/Android-AOPExample', 'https://github.com//android10/Android-ReactiveProgramming', 'https://github.com//android10/frodo2', 'https://github.com//android10/Workshop-Android-Chatbot', 'https://github.com//android10/HelloDockerScalaSbt', 'https://github.com//android10/two-daggers', 'https://github.com//android10/arch-linux-dell', 'https://github.com//android10/java-code-examples', 'https://github.com//android10/Scala_ExercisesAndPractices', 'https://github.com//android10/best-practices', 'https://github.com//android10/gandalf', 'https://github.com//android10/aragorn', 'https://github.com//android10/engineering-blogs', 'https://github.com//android10/Fast-Food-Reality', 'https://github.com//android10/MyResumeAndroidApp', 'https://github.com//android10/Android-AnnotationsSample', 'https://github.com//android10/java-design-patterns', 'https://github.com//android10/DynamicProxy_Java_Sample', 'https://github.com//android10/Inside_Android_Testing', 'https://github.com//android10/VimStuff', 'https://github.com//android10/interviewproblems', 'https://github.com//android10/AndroidApplicationTestingSample', 'https://github.com//android10/nfc_android_sample']\n",
            "['0', '0', '3', '4k', '1', '4', '2', '0', '3', '30', '3', '6', '3', '15.2k', '17', '289', '0', '1', '44', '38', '0', '3', '5', '0', '11', '5', '1', '1', '0', '14', '17', '2', '0', '7', '13', '3', '41', '18', '1', '4', '8', '23', '1', '91', '42', '449', '1.5k', '419', '225', '143', '23', '0', '12', '1', '11', '2', '4', '4', '1', '11', '22', '11', '9', '34', '33', '52', '0', '21', '5', '27']\n",
            "['1', '8', '0', '842', '0', '0', '0', '49', '5', '1', '1', '2', '0', '3.4k', '10', '779', '0', '0', '6', '3', '0', '1', '14', '159', '3', '1', '1.1k', '326', '843', '1', '5', '13.7k', '1', '1', '303', '2', '13', '12.1k', '1', '2', '2', '6', '1.1k', '13', '4', '37', '105', '135', '46', '14', '2', '11', '4', '2', '5', '0', '295', '1', '1', '1.9k', '7', '4', '4', '23.4k', '22', '14', '1', '92', '3', '8']\n",
            "['0', '0', '0', '73', '0', '0', '1', '0', '2', '0', '0', '0', '0', '128', '3', '0', '0', '0', '0', '0', '0', '0', '0', '0', '0', '0', '0', '0', '0', '0', '0', '0', '0', '0', '0', '0', '0', '0', '0', '0', '0', '0', '0', '0', '1', '6', '14', '3', '1', '8', '0', '0', '2', '0', '0', '0', '0', '0', '1', '0', '0', '0', '0', '0', '0', '1', '0', '0', '0', '0']\n"
          ]
        }
      ],
      "source": [
        "import requests\n",
        "import csv\n",
        "from itertools import zip_longest\n",
        "from bs4 import BeautifulSoup\n",
        "import re\n",
        "\n",
        "\n",
        "def repoScraping():\n",
        "    username = str(input(\"Enter GitHub username: \"))\n",
        "    repoInfo = []\n",
        "    names = []\n",
        "    urls = []\n",
        "    stars = []\n",
        "    forks = []\n",
        "    issues = []\n",
        "\n",
        "    url = \"https://github.com/\" + username + \"?tab=repositories\"\n",
        "\n",
        "    while True:\n",
        "\n",
        "        getWeb = requests.get(url)\n",
        "        webContent = getWeb.content\n",
        "        soup = BeautifulSoup(webContent, \"lxml\")\n",
        "        listOfRipo = soup.find_all(\"ul\", {\"data-filterable-for\": \"your-repos-filter\"})\n",
        "\n",
        "        for listItem in listOfRipo:\n",
        "            repo = listItem.find_all(\"li\", {\n",
        "                \"class\": re.compile(\"^col-12 d-flex width-full py-4 border-bottom color-border-muted public\")})\n",
        "            for repoTitel in repo:\n",
        "                repoName = repoTitel.find_all(\"h3\", {\"class\": \"wb-break-all\"})\n",
        "                for link in repoName:\n",
        "                    repoUrl = link.find_all(\"a\", {\"itemprop\": \"name codeRepository\"})\n",
        "                    for repoUrlInfo in repoUrl:\n",
        "                        names.append((\"\"+repoUrlInfo.text).replace(\"\\n        \",\"\"))\n",
        "                        repoPageUrl = str(repoUrlInfo.get(\"href\"))\n",
        "                        urls.append(\"https://github.com/\" + repoPageUrl)\n",
        "\n",
        "                        getWeb = requests.get(\"https://github.com/\" + repoPageUrl)\n",
        "                        webContent = getWeb.content\n",
        "                        soup = BeautifulSoup(webContent, \"lxml\")\n",
        "\n",
        "                        star = soup.find_all(\"span\", {\"id\": \"repo-stars-counter-star\"})\n",
        "                        for starInfo in range(len(star)):\n",
        "                            stars.append(star[starInfo].text)\n",
        "\n",
        "                        fork = soup.find_all(\"span\", {\"id\": \"repo-network-counter\"})\n",
        "                        for forkInfo in range(len(fork)):\n",
        "                            forks.append(fork[forkInfo].text)\n",
        "\n",
        "                        issue = soup.find(\"span\", {\"id\": \"issues-repo-tab-count\"})\n",
        "                        if issue is not None:\n",
        "                            issues.append(issue.text)\n",
        "                        else:\n",
        "                            issues.append('0')\n",
        "\n",
        "        getWeb = requests.get(url)\n",
        "        webContent = getWeb.content\n",
        "        soup = BeautifulSoup(webContent, \"lxml\")\n",
        "        nextPage = soup.find_all('div', {'class':'paginate-container'})\n",
        "        if(len(nextPage)==0):\n",
        "          break\n",
        "        nextPageCheck = nextPage[0]\n",
        "        for nextPageInfo in nextPage:\n",
        "            nextPageUrl = nextPageInfo.find_all('a', {'rel': 'nofollow'})\n",
        "            for nextPageUrlInfo in nextPageUrl:\n",
        "                if nextPageUrlInfo.text == \"Next\":\n",
        "                    nextPageCheck = nextPageUrlInfo\n",
        "                else:\n",
        "                    nextPageCheck = None\n",
        "\n",
        "        if nextPageCheck is not None:\n",
        "            url = nextPageCheck.get('href')\n",
        "        else:\n",
        "            break\n",
        "\n",
        "    repoInfo = [names, urls, stars, forks, issues]\n",
        "    summaryFile = zip_longest(*repoInfo)\n",
        "    with open(\"repos.csv\", \"w\") as file:\n",
        "        write = csv.writer(file)\n",
        "        write.writerow(\n",
        "            [\"Repositorie Name\", \"Repositorie URL\", \"Number Of Stars\", \"Number Of Forks\", \"Number Of Issues\"])\n",
        "        write.writerows(summaryFile)\n",
        "\n",
        "    for completRepoInfo in repoInfo:\n",
        "        print(completRepoInfo)\n",
        "\n",
        "\n",
        "\n",
        "\n",
        "repoScraping()"
      ]
    }
  ]
}